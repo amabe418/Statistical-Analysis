{
 "cells": [
  {
   "cell_type": "code",
   "execution_count": 2,
   "id": "140a4c36",
   "metadata": {},
   "outputs": [
    {
     "data": {
      "text/html": [
       "<div>\n",
       "<style scoped>\n",
       "    .dataframe tbody tr th:only-of-type {\n",
       "        vertical-align: middle;\n",
       "    }\n",
       "\n",
       "    .dataframe tbody tr th {\n",
       "        vertical-align: top;\n",
       "    }\n",
       "\n",
       "    .dataframe thead th {\n",
       "        text-align: right;\n",
       "    }\n",
       "</style>\n",
       "<table border=\"1\" class=\"dataframe\">\n",
       "  <thead>\n",
       "    <tr style=\"text-align: right;\">\n",
       "      <th></th>\n",
       "      <th>GENDER</th>\n",
       "      <th>AGE</th>\n",
       "      <th>SMOKING</th>\n",
       "      <th>YELLOW_FINGERS</th>\n",
       "      <th>ANXIETY</th>\n",
       "      <th>PEER_PRESSURE</th>\n",
       "      <th>CHRONIC DISEASE</th>\n",
       "      <th>FATIGUE</th>\n",
       "      <th>ALLERGY</th>\n",
       "      <th>WHEEZING</th>\n",
       "      <th>ALCOHOL CONSUMING</th>\n",
       "      <th>COUGHING</th>\n",
       "      <th>SHORTNESS OF BREATH</th>\n",
       "      <th>SWALLOWING DIFFICULTY</th>\n",
       "      <th>CHEST PAIN</th>\n",
       "      <th>LUNG_CANCER</th>\n",
       "    </tr>\n",
       "  </thead>\n",
       "  <tbody>\n",
       "    <tr>\n",
       "      <th>0</th>\n",
       "      <td>M</td>\n",
       "      <td>69</td>\n",
       "      <td>1</td>\n",
       "      <td>2</td>\n",
       "      <td>2</td>\n",
       "      <td>1</td>\n",
       "      <td>1</td>\n",
       "      <td>2</td>\n",
       "      <td>1</td>\n",
       "      <td>2</td>\n",
       "      <td>2</td>\n",
       "      <td>2</td>\n",
       "      <td>2</td>\n",
       "      <td>2</td>\n",
       "      <td>2</td>\n",
       "      <td>YES</td>\n",
       "    </tr>\n",
       "    <tr>\n",
       "      <th>1</th>\n",
       "      <td>M</td>\n",
       "      <td>74</td>\n",
       "      <td>2</td>\n",
       "      <td>1</td>\n",
       "      <td>1</td>\n",
       "      <td>1</td>\n",
       "      <td>2</td>\n",
       "      <td>2</td>\n",
       "      <td>2</td>\n",
       "      <td>1</td>\n",
       "      <td>1</td>\n",
       "      <td>1</td>\n",
       "      <td>2</td>\n",
       "      <td>2</td>\n",
       "      <td>2</td>\n",
       "      <td>YES</td>\n",
       "    </tr>\n",
       "    <tr>\n",
       "      <th>2</th>\n",
       "      <td>F</td>\n",
       "      <td>59</td>\n",
       "      <td>1</td>\n",
       "      <td>1</td>\n",
       "      <td>1</td>\n",
       "      <td>2</td>\n",
       "      <td>1</td>\n",
       "      <td>2</td>\n",
       "      <td>1</td>\n",
       "      <td>2</td>\n",
       "      <td>1</td>\n",
       "      <td>2</td>\n",
       "      <td>2</td>\n",
       "      <td>1</td>\n",
       "      <td>2</td>\n",
       "      <td>NO</td>\n",
       "    </tr>\n",
       "    <tr>\n",
       "      <th>3</th>\n",
       "      <td>M</td>\n",
       "      <td>63</td>\n",
       "      <td>2</td>\n",
       "      <td>2</td>\n",
       "      <td>2</td>\n",
       "      <td>1</td>\n",
       "      <td>1</td>\n",
       "      <td>1</td>\n",
       "      <td>1</td>\n",
       "      <td>1</td>\n",
       "      <td>2</td>\n",
       "      <td>1</td>\n",
       "      <td>1</td>\n",
       "      <td>2</td>\n",
       "      <td>2</td>\n",
       "      <td>NO</td>\n",
       "    </tr>\n",
       "    <tr>\n",
       "      <th>4</th>\n",
       "      <td>F</td>\n",
       "      <td>63</td>\n",
       "      <td>1</td>\n",
       "      <td>2</td>\n",
       "      <td>1</td>\n",
       "      <td>1</td>\n",
       "      <td>1</td>\n",
       "      <td>1</td>\n",
       "      <td>1</td>\n",
       "      <td>2</td>\n",
       "      <td>1</td>\n",
       "      <td>2</td>\n",
       "      <td>2</td>\n",
       "      <td>1</td>\n",
       "      <td>1</td>\n",
       "      <td>NO</td>\n",
       "    </tr>\n",
       "  </tbody>\n",
       "</table>\n",
       "</div>"
      ],
      "text/plain": [
       "  GENDER  AGE  SMOKING  YELLOW_FINGERS  ANXIETY  PEER_PRESSURE  \\\n",
       "0      M   69        1               2        2              1   \n",
       "1      M   74        2               1        1              1   \n",
       "2      F   59        1               1        1              2   \n",
       "3      M   63        2               2        2              1   \n",
       "4      F   63        1               2        1              1   \n",
       "\n",
       "   CHRONIC DISEASE  FATIGUE   ALLERGY   WHEEZING  ALCOHOL CONSUMING  COUGHING  \\\n",
       "0                1         2         1         2                  2         2   \n",
       "1                2         2         2         1                  1         1   \n",
       "2                1         2         1         2                  1         2   \n",
       "3                1         1         1         1                  2         1   \n",
       "4                1         1         1         2                  1         2   \n",
       "\n",
       "   SHORTNESS OF BREATH  SWALLOWING DIFFICULTY  CHEST PAIN LUNG_CANCER  \n",
       "0                    2                      2           2         YES  \n",
       "1                    2                      2           2         YES  \n",
       "2                    2                      1           2          NO  \n",
       "3                    1                      2           2          NO  \n",
       "4                    2                      1           1          NO  "
      ]
     },
     "execution_count": 2,
     "metadata": {},
     "output_type": "execute_result"
    }
   ],
   "source": [
    "import pandas as pd\n",
    "\n",
    "# Cargar el dataset\n",
    "file_path = \"survey lung cancer.csv\"\n",
    "df = pd.read_csv(file_path)\n",
    "\n",
    "# Mostrar las primeras filas\n",
    "df.head()\n"
   ]
  },
  {
   "cell_type": "markdown",
   "id": "b965d25a",
   "metadata": {},
   "source": [
    "Nota: Revisamos la información general y valores nulos:"
   ]
  },
  {
   "cell_type": "code",
   "execution_count": null,
   "id": "97744b1d",
   "metadata": {},
   "outputs": [],
   "source": [
    "# Información general del dataset\n",
    "df.info()\n",
    "\n",
    "# Verificar valores nulos\n",
    "df.isnull().sum()\n"
   ]
  },
  {
   "cell_type": "markdown",
   "id": "55ada33a",
   "metadata": {},
   "source": [
    "Distribución de edades y proporciones de cancer de pulmón:\n"
   ]
  },
  {
   "cell_type": "code",
   "execution_count": null,
   "id": "40bf0ee6",
   "metadata": {},
   "outputs": [],
   "source": [
    "import matplotlib.pyplot as plt\n",
    "import seaborn as sns\n",
    "\n",
    "# Distribución de edades\n",
    "plt.figure(figsize=(8,5))\n",
    "sns.histplot(df['AGE'], bins=20, kde=True)\n",
    "plt.title('Distribución de Edad')\n",
    "plt.show()\n",
    "\n",
    "# Proporción de diagnóstico de cáncer de pulmón\n",
    "plt.figure(figsize=(5,5))\n",
    "sns.countplot(x=df['LUNG_CANCER'])\n",
    "plt.title('Proporción de Casos de Cáncer de Pulmón')\n",
    "plt.show()\n"
   ]
  },
  {
   "cell_type": "markdown",
   "id": "85e447b4",
   "metadata": {},
   "source": [
    "Probabilidad de tener cáncer de pulmón:"
   ]
  },
  {
   "cell_type": "code",
   "execution_count": null,
   "id": "836a56f4",
   "metadata": {},
   "outputs": [],
   "source": [
    "p_lung_cancer = df['LUNG_CANCER'].value_counts(normalize=True)['YES']\n",
    "print(f\"Probabilidad de cáncer de pulmón: {p_lung_cancer:.2f}\")\n"
   ]
  },
  {
   "cell_type": "markdown",
   "id": "2147fff6",
   "metadata": {},
   "source": [
    "Probabilidad de tener cancer de pulmón siendo una persona que fuma:  \n",
    "Probabilidad condicional: P(Cáncer | Fumador)"
   ]
  },
  {
   "cell_type": "code",
   "execution_count": null,
   "id": "6a8fce28",
   "metadata": {},
   "outputs": [],
   "source": [
    "smokers = df[df['SMOKING'] == 1]\n",
    "p_lung_given_smoker = (smokers['LUNG_CANCER'] == 'YES').mean()\n",
    "\n",
    "print(f\"Probabilidad de cáncer dado que fuma: {p_lung_given_smoker:.2f}\")\n"
   ]
  },
  {
   "cell_type": "markdown",
   "id": "2e4f4a06",
   "metadata": {},
   "source": [
    "Probabilidad conjunta: P(Fumador ∩ Cáncer)"
   ]
  },
  {
   "cell_type": "code",
   "execution_count": null,
   "id": "dae5b2a3",
   "metadata": {},
   "outputs": [],
   "source": [
    "p_smoker = (df['SMOKING'] == 1).mean()\n",
    "p_smoker_and_lung = p_lung_given_smoker * p_smoker\n",
    "\n",
    "print(f\"Probabilidad de ser fumador y tener cáncer: {p_smoker_and_lung:.2f}\")\n"
   ]
  },
  {
   "cell_type": "markdown",
   "id": "b050f1a2",
   "metadata": {},
   "source": [
    "Independencia entre fumar y cáncer de pulmón:\n"
   ]
  },
  {
   "cell_type": "code",
   "execution_count": null,
   "id": "81e1ff91",
   "metadata": {},
   "outputs": [],
   "source": [
    "p_lung_cancer * p_smoker  # P(A) * P(B)"
   ]
  },
  {
   "cell_type": "markdown",
   "id": "6d28506b",
   "metadata": {},
   "source": [
    " Análisis de Correlaciones:  \n",
    " Esto nos permite identificar qué factores tienen mayor relación con el cáncer de pulmón."
   ]
  },
  {
   "cell_type": "code",
   "execution_count": null,
   "id": "c5abf7e8",
   "metadata": {},
   "outputs": [],
   "source": [
    "plt.figure(figsize=(10,8))\n",
    "sns.heatmap(df.corr(), annot=True, cmap='coolwarm', fmt=\".2f\")\n",
    "plt.title('Matriz de Correlación')\n",
    "plt.show()\n"
   ]
  },
  {
   "cell_type": "markdown",
   "id": "74832d4a",
   "metadata": {},
   "source": [
    "Usaremos pruebas estadísticas para determinar si hay una relación significativa entre ciertos factores de riesgo y el cáncer de pulmón."
   ]
  },
  {
   "cell_type": "markdown",
   "id": "46d2981e",
   "metadata": {},
   "source": [
    "Hipótesis a Evaluar: Fumar está asociado significativamente con el cáncer de pulmón.\n",
    "Prueba: Chi-cuadrado para independencia entre fumar y cáncer de pulmón."
   ]
  },
  {
   "cell_type": "code",
   "execution_count": null,
   "id": "1206ca97",
   "metadata": {},
   "outputs": [],
   "source": [
    "import pandas as pd\n",
    "import numpy as np\n",
    "import scipy.stats as stats\n",
    "import matplotlib.pyplot as plt\n",
    "import seaborn as sns\n",
    "from sklearn.model_selection import train_test_split\n",
    "from sklearn.linear_model import LogisticRegression\n",
    "from sklearn.tree import DecisionTreeClassifier\n",
    "from sklearn.metrics import accuracy_score, classification_report\n",
    "\n",
    "# Cargar datos\n",
    "df = pd.read_csv(\"survey lung cancer.csv\")\n",
    "\n",
    "# Convertir variables categóricas a numéricas\n",
    "df['LUNG_CANCER'] = df['LUNG_CANCER'].map({'YES': 1, 'NO': 0})\n",
    "\n",
    "# Prueba 1: Chi-cuadrado entre fumar y cáncer\n",
    "tab = pd.crosstab(df['SMOKING'], df['LUNG_CANCER'])\n",
    "chi2, p, dof, expected = stats.chi2_contingency(tab)\n",
    "print(f\"Prueba de Chi-cuadrado (Fumar vs Cáncer): chi2={chi2:.2f}, p-valor={p:.4f}\")"
   ]
  },
  {
   "cell_type": "markdown",
   "id": "cc2e50d2",
   "metadata": {},
   "source": [
    "Hipótesis a Evaluar: La edad promedio de pacientes con cáncer de pulmón es mayor que la de los que no tienen.\n",
    "Prueba: t de Student para comparar medias de dos grupos."
   ]
  },
  {
   "cell_type": "code",
   "execution_count": null,
   "id": "3a7fe38f",
   "metadata": {},
   "outputs": [],
   "source": [
    "# Prueba 2: t de Student entre edades de pacientes con y sin cáncer\n",
    "ages_cancer = df[df['LUNG_CANCER'] == 1]['AGE']\n",
    "ages_no_cancer = df[df['LUNG_CANCER'] == 0]['AGE']\n",
    "t_stat, p_value = stats.ttest_ind(ages_cancer, ages_no_cancer, equal_var=False)\n",
    "print(f\"Prueba t de Student (Edad vs Cáncer): t={t_stat:.2f}, p-valor={p_value:.4f}\")"
   ]
  },
  {
   "cell_type": "markdown",
   "id": "28aafe2d",
   "metadata": {},
   "source": [
    "Hipótesis a Evaluar: La presencia de tos es un buen predictor del cáncer de pulmón.\n",
    "Prueba: Chi-cuadrado para evaluar asociación entre tos y cáncer."
   ]
  },
  {
   "cell_type": "code",
   "execution_count": null,
   "id": "b4055cf4",
   "metadata": {},
   "outputs": [],
   "source": [
    "# Prueba 3: Chi-cuadrado entre tos y cáncer\n",
    "tab_cough = pd.crosstab(df['COUGHING'], df['LUNG_CANCER'])\n",
    "chi2_cough, p_cough, _, _ = stats.chi2_contingency(tab_cough)\n",
    "print(f\"Prueba de Chi-cuadrado (Tos vs Cáncer): chi2={chi2_cough:.2f}, p-valor={p_cough:.4f}\")"
   ]
  }
 ],
 "metadata": {
  "kernelspec": {
   "display_name": "my_env",
   "language": "python",
   "name": "python3"
  },
  "language_info": {
   "codemirror_mode": {
    "name": "ipython",
    "version": 3
   },
   "file_extension": ".py",
   "mimetype": "text/x-python",
   "name": "python",
   "nbconvert_exporter": "python",
   "pygments_lexer": "ipython3",
   "version": "3.13.1"
  }
 },
 "nbformat": 4,
 "nbformat_minor": 5
}
